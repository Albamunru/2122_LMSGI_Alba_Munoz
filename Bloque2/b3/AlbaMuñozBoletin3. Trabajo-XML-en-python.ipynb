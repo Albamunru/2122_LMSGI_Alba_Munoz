{
 "cells": [
  {
   "cell_type": "markdown",
   "metadata": {},
   "source": [
    "# Trabajo con XML en Python"
   ]
  },
  {
   "cell_type": "markdown",
   "metadata": {},
   "source": [
    "Para la realización de estos ejercicios, podeis consultar:\n",
    "1. [Video: trabajo con librería pandas en Python](https://www.youtube.com/watch?v=avGrGydcAWI)\n",
    "2. [Documento: Trabajar xon XML en Python](https://docs.google.com/document/d/1bDwPQ07CjNdeN-uxXvw8Lgm2dopt1ntkhlJnnHuCQhc/edit?usp=sharing)\n",
    "3. [Tutorial: Uso de XML en python](https://www.oulub.com/es-ES/Python/library.xml.etree.elementtree)"
   ]
  },
  {
   "cell_type": "markdown",
   "metadata": {},
   "source": [
    "### Ejercicio 1\n",
    "\n",
    "Obtener el fichero XML \"student.xml\" y convertir en un Dataframe con las siguientes columnas \"name\",\"email\",\"grade\",\"age\".<br>\n",
    "Este proceso encapsulalo en una función de nombre \"loadStudentsFromXML\" al cual se le pase un parámetro el fichero a cargar (ruta y nombre del fichero), y retorne el Dataframe obtenido"
   ]
  },
  {
   "cell_type": "code",
   "execution_count": 2,
   "metadata": {},
   "outputs": [],
   "source": [
    "import xml.etree.ElementTree as et\n",
    "import pandas as pd\n",
    "\n",
    "\n",
    "fichero = \"./res/student.xml\"\n",
    "tree = et.parse(fichero)\n",
    "\n",
    "\n",
    "def loadStudentsFromXML(fichero):\n",
    " #cargar y parsear el fichero\n",
    "   \n",
    "    #obtener el nodo raiz\n",
    "    raiz=tree.getroot()\n",
    "    \n",
    "\n",
    "\n",
    "    #definir los nombres de las columnas del DataFrame  ==> defines las columnas aqui, y más abajo, esto no lo utilizas.\n",
    "    df_column = [\"email\",\"grade\",\"age\"]\n",
    "\n",
    "    #Lista de las filas de DataFrame\n",
    "    filas = []\n",
    "\n",
    "    #recorrer el XML a través de su Nodo root y por cada iteración agregar una fila a la lista de \"filas\"\n",
    "    \n",
    "    for student in raiz:\n",
    "        fila={}\n",
    "\n",
    "        #NO TE HACE FALTA RECORRER LOS NODOS DE LOS ALUMNOS, PORQUE DESDE STUDENT YA PUEDES ACCEDER A ELLOS\n",
    "        # for hijostudent in student:\n",
    "        \n",
    "               #Obtener el nombre desde el atributo\n",
    "        name= student.attrib[\"name\"]\n",
    "\n",
    "        \n",
    "        email=student.find(\"email\").text\n",
    "        grade=student.find(\"grade\").text\n",
    "        age=student.find(\"age\").text\n",
    "\n",
    "        fila={\n",
    "            \"name\": name,\n",
    "            \"email\":email,\n",
    "            \"grade\":grade,\n",
    "            \"age\":age\n",
    "        }\n",
    "\n",
    "\n",
    "        #Finalmente, crear el DataFrame con la lista de filas y los nombres de las columnas.\n",
    "        filas.append(fila)\n",
    "\n",
    "    #Retornas el DataFrame\n",
    "    columnas=[\"email\",\"grade\",\"age\"]\n",
    "\n",
    "    #creamos el Dataframe, y lo asignamos a la variables df ==> que retornamos como resultado del método.\n",
    "    df=pd.DataFrame(filas,columns=columnas)\n",
    "\n",
    "    return df\n"
   ]
  },
  {
   "cell_type": "code",
   "execution_count": 46,
   "metadata": {},
   "outputs": [
    {
     "name": "stdout",
     "output_type": "stream",
     "text": [
      "             email grade age\n",
      "0    john@mail.com     A  16\n",
      "1   alice@mail.com     B  17\n",
      "2     bob@mail.com     C  16\n",
      "3  hannah@mail.com     A  17\n"
     ]
    }
   ],
   "source": [
    "# Probar la función\n",
    "df = loadStudentsFromXML(\"./res/student.xml\")\n",
    "print(df)"
   ]
  },
  {
   "cell_type": "markdown",
   "metadata": {},
   "source": [
    "### CORRECCION Ejercicio 1\n",
    "\n",
    "* El fichero debe estar dentro del método\n",
    "* Falta la columna name en el Dataframe\n",
    "\n",
    "**MAL**"
   ]
  },
  {
   "cell_type": "markdown",
   "metadata": {},
   "source": [
    "### Ejercicio 2\n",
    "\n",
    "Utilizando el método del ejercicio-1, con el dataframe obtenido establece la columna índice a la columna \"name\""
   ]
  },
  {
   "cell_type": "code",
   "execution_count": 39,
   "metadata": {},
   "outputs": [],
   "source": [
    "import xml.etree.ElementTree as et\n",
    "import pandas as pd\n",
    "\n",
    "fichero = \"./res/student.xml\"\n",
    "tree = et.parse(fichero)\n",
    "\n",
    "\n",
    "def loadStudentsFromXML(fichero):\n",
    " #cargar y parsear el fichero\n",
    "   \n",
    "    #obtener el nodo raiz\n",
    "    raiz=tree.getroot()\n",
    "    \n",
    "\n",
    "\n",
    "    #definir los nombres de las columnas del DataFrame  ==> defines las columnas aqui, y más abajo, esto no lo utilizas.\n",
    "    df_column = [\"indice\",\"email\",\"grade\",\"age\"]\n",
    "\n",
    "    #Lista de las filas de DataFrame\n",
    "    filas = []\n",
    "\n",
    "    #recorrer el XML a través de su Nodo root y por cada iteración agregar una fila a la lista de \"filas\"\n",
    "    \n",
    "    for student in raiz:\n",
    "        fila={}\n",
    "\n",
    "        #NO TE HACE FALTA RECORRER LOS NODOS DE LOS ALUMNOS, PORQUE DESDE STUDENT YA PUEDES ACCEDER A ELLOS\n",
    "        # for hijostudent in student:\n",
    "        \n",
    "               #Obtener el nombre desde el atributo\n",
    "        indice= student.attrib[\"indice\"]\n",
    "\n",
    "        \n",
    "        email=student.find(\"email\").text\n",
    "        grade=student.find(\"grade\").text\n",
    "        age=student.find(\"age\").text\n",
    "\n",
    "        fila={\n",
    "            \"indice\": indice,\n",
    "            \"email\":email,\n",
    "            \"grade\":grade,\n",
    "            \"age\":age\n",
    "        }\n",
    "\n",
    "\n",
    "        #Finalmente, crear el DataFrame con la lista de filas y los nombres de las columnas.\n",
    "        filas.append(fila)\n",
    "\n",
    "    #Retornas el DataFrame\n",
    "    columnas=[\"indice\",\"email\",\"grade\",\"age\"]\n",
    "\n",
    "    #creamos el Dataframe, y lo asignamos a la variables df ==> que retornamos como resultado del método.\n",
    "    df=pd.DataFrame(filas,columns=columnas)\n",
    "\n",
    "    return df"
   ]
  },
  {
   "cell_type": "markdown",
   "metadata": {},
   "source": [
    "### CORRECCION Ejercicio 2\n",
    "\n",
    "Este ejercicio no pedía crear renombar la columna 'name' por 'ìndice', sino establecer la columna name como índice del dataframe.\n",
    "\n",
    "**MAL**"
   ]
  },
  {
   "cell_type": "code",
   "execution_count": 43,
   "metadata": {},
   "outputs": [
    {
     "ename": "KeyError",
     "evalue": "'indice'",
     "output_type": "error",
     "traceback": [
      "\u001b[1;31m---------------------------------------------------------------------------\u001b[0m",
      "\u001b[1;31mKeyError\u001b[0m                                  Traceback (most recent call last)",
      "\u001b[1;32m~\\AppData\\Local\\Temp/ipykernel_5588/2259570535.py\u001b[0m in \u001b[0;36m<module>\u001b[1;34m\u001b[0m\n\u001b[1;32m----> 1\u001b[1;33m \u001b[0mdf\u001b[0m \u001b[1;33m=\u001b[0m \u001b[0mloadStudentsFromXML\u001b[0m\u001b[1;33m(\u001b[0m\u001b[1;34m\"./res/student.xml\"\u001b[0m\u001b[1;33m)\u001b[0m\u001b[1;33m\u001b[0m\u001b[1;33m\u001b[0m\u001b[0m\n\u001b[0m\u001b[0;32m      2\u001b[0m \u001b[1;31m#Establecear la columnas \"name\" como columan-índice\u001b[0m\u001b[1;33m\u001b[0m\u001b[1;33m\u001b[0m\u001b[0m\n\u001b[0;32m      3\u001b[0m \u001b[1;32mimport\u001b[0m \u001b[0mxml\u001b[0m\u001b[1;33m.\u001b[0m\u001b[0metree\u001b[0m\u001b[1;33m.\u001b[0m\u001b[0mElementTree\u001b[0m \u001b[1;32mas\u001b[0m \u001b[0met\u001b[0m\u001b[1;33m\u001b[0m\u001b[1;33m\u001b[0m\u001b[0m\n\u001b[0;32m      4\u001b[0m \u001b[1;32mimport\u001b[0m \u001b[0mpandas\u001b[0m \u001b[1;32mas\u001b[0m \u001b[0mpd\u001b[0m\u001b[1;33m\u001b[0m\u001b[1;33m\u001b[0m\u001b[0m\n\u001b[0;32m      5\u001b[0m \u001b[1;33m\u001b[0m\u001b[0m\n",
      "\u001b[1;32m~\\AppData\\Local\\Temp/ipykernel_5588/3035236239.py\u001b[0m in \u001b[0;36mloadStudentsFromXML\u001b[1;34m(fichero)\u001b[0m\n\u001b[0;32m     29\u001b[0m \u001b[1;33m\u001b[0m\u001b[0m\n\u001b[0;32m     30\u001b[0m                \u001b[1;31m#Obtener el nombre desde el atributo\u001b[0m\u001b[1;33m\u001b[0m\u001b[1;33m\u001b[0m\u001b[0m\n\u001b[1;32m---> 31\u001b[1;33m         \u001b[0mindice\u001b[0m\u001b[1;33m=\u001b[0m \u001b[0mstudent\u001b[0m\u001b[1;33m.\u001b[0m\u001b[0mattrib\u001b[0m\u001b[1;33m[\u001b[0m\u001b[1;34m\"indice\"\u001b[0m\u001b[1;33m]\u001b[0m\u001b[1;33m\u001b[0m\u001b[1;33m\u001b[0m\u001b[0m\n\u001b[0m\u001b[0;32m     32\u001b[0m \u001b[1;33m\u001b[0m\u001b[0m\n\u001b[0;32m     33\u001b[0m \u001b[1;33m\u001b[0m\u001b[0m\n",
      "\u001b[1;31mKeyError\u001b[0m: 'indice'"
     ]
    }
   ],
   "source": [
    "df = loadStudentsFromXML(\"./res/student.xml\")\n",
    "#Establecear la columnas \"name\" como columan-índice\n",
    "import xml.etree.ElementTree as et\n",
    "import pandas as pd\n",
    "\n",
    "fichero = \"./res/student.xml\"\n",
    "tree = et.parse(fichero)\n",
    "\n",
    "\n",
    "def loadStudentsFromXML(fichero):\n",
    " #cargar y parsear el fichero\n",
    "   \n",
    "    #obtener el nodo raiz\n",
    "    raiz=tree.getroot()\n",
    "    \n",
    "\n",
    "\n",
    "    #definir los nombres de las columnas del DataFrame  ==> defines las columnas aqui, y más abajo, esto no lo utilizas.\n",
    "    df_column = [\"email\",\"grade\",\"age\"]\n",
    "\n",
    "    #Lista de las filas de DataFrame\n",
    "    filas = []\n",
    "\n",
    "    #recorrer el XML a través de su Nodo root y por cada iteración agregar una fila a la lista de \"filas\"\n",
    "    \n",
    "    for student in raiz:\n",
    "        fila={}\n",
    "\n",
    "        #NO TE HACE FALTA RECORRER LOS NODOS DE LOS ALUMNOS, PORQUE DESDE STUDENT YA PUEDES ACCEDER A ELLOS\n",
    "        # for hijostudent in student:\n",
    "        \n",
    "               #Obtener el nombre desde el atributo\n",
    "        indice= student.attrib[\"name\"]\n",
    "\n",
    "        \n",
    "        email=student.find(\"email\").text\n",
    "        grade=student.find(\"grade\").text\n",
    "        age=student.find(\"age\").text\n",
    "\n",
    "        fila={\n",
    "            \"indice\": indice,\n",
    "            \"email\":email,\n",
    "            \"grade\":grade,\n",
    "            \"age\":age\n",
    "        }\n",
    "\n",
    "\n",
    "        #Finalmente, crear el DataFrame con la lista de filas y los nombres de las columnas.\n",
    "        filas.append(fila)\n",
    "\n",
    "    #Retornas el DataFrame\n",
    "    columnas=[\"email\",\"grade\",\"age\"]\n",
    "\n",
    "    #creamos el Dataframe, y lo asignamos a la variables df ==> que retornamos como resultado del método.\n",
    "    df=pd.DataFrame(filas,columns=columnas)\n",
    "\n",
    "    return df\n",
    "\n"
   ]
  },
  {
   "cell_type": "code",
   "execution_count": 37,
   "metadata": {},
   "outputs": [
    {
     "ename": "KeyError",
     "evalue": "'indice'",
     "output_type": "error",
     "traceback": [
      "\u001b[1;31m---------------------------------------------------------------------------\u001b[0m",
      "\u001b[1;31mKeyError\u001b[0m                                  Traceback (most recent call last)",
      "\u001b[1;32m~\\AppData\\Local\\Temp/ipykernel_5588/4105767636.py\u001b[0m in \u001b[0;36m<module>\u001b[1;34m\u001b[0m\n\u001b[0;32m      1\u001b[0m \u001b[1;31m# Probar la función\u001b[0m\u001b[1;33m\u001b[0m\u001b[1;33m\u001b[0m\u001b[0m\n\u001b[1;32m----> 2\u001b[1;33m \u001b[0mdf\u001b[0m \u001b[1;33m=\u001b[0m \u001b[0mloadStudentsFromXML\u001b[0m\u001b[1;33m(\u001b[0m\u001b[1;34m\"./res/student.xml\"\u001b[0m\u001b[1;33m)\u001b[0m\u001b[1;33m\u001b[0m\u001b[1;33m\u001b[0m\u001b[0m\n\u001b[0m\u001b[0;32m      3\u001b[0m \u001b[0mprint\u001b[0m\u001b[1;33m(\u001b[0m\u001b[0mdf\u001b[0m\u001b[1;33m)\u001b[0m\u001b[1;33m\u001b[0m\u001b[1;33m\u001b[0m\u001b[0m\n",
      "\u001b[1;32m~\\AppData\\Local\\Temp/ipykernel_5588/442655.py\u001b[0m in \u001b[0;36mloadStudentsFromXML\u001b[1;34m(fichero)\u001b[0m\n\u001b[0;32m     29\u001b[0m \u001b[1;33m\u001b[0m\u001b[0m\n\u001b[0;32m     30\u001b[0m                \u001b[1;31m#Obtener el nombre desde el atributo\u001b[0m\u001b[1;33m\u001b[0m\u001b[1;33m\u001b[0m\u001b[0m\n\u001b[1;32m---> 31\u001b[1;33m         \u001b[0mindice\u001b[0m\u001b[1;33m=\u001b[0m \u001b[0mstudent\u001b[0m\u001b[1;33m.\u001b[0m\u001b[0mattrib\u001b[0m\u001b[1;33m[\u001b[0m\u001b[1;34m\"indice\"\u001b[0m\u001b[1;33m]\u001b[0m\u001b[1;33m\u001b[0m\u001b[1;33m\u001b[0m\u001b[0m\n\u001b[0m\u001b[0;32m     32\u001b[0m \u001b[1;33m\u001b[0m\u001b[0m\n\u001b[0;32m     33\u001b[0m \u001b[1;33m\u001b[0m\u001b[0m\n",
      "\u001b[1;31mKeyError\u001b[0m: 'indice'"
     ]
    }
   ],
   "source": [
    "# Probar la función\n",
    "df = loadStudentsFromXML(\"./res/student.xml\")\n",
    "print(df)"
   ]
  },
  {
   "cell_type": "markdown",
   "metadata": {},
   "source": [
    "### Ejercicio 3\n",
    "\n",
    "Carga el fichero CSV \"student.csv\" en un panda Dataframe, en el cual la columna indice sea el nombre del alumno"
   ]
  },
  {
   "cell_type": "code",
   "execution_count": 34,
   "metadata": {},
   "outputs": [
    {
     "name": "stdout",
     "output_type": "stream",
     "text": [
      "                  email grade age\n",
      "john      john@mail.com     A  16\n",
      "Alice    alice@mail.com     B  17\n",
      "Bob        bob@mail.com     C  16\n",
      "Hannah  hannah@mail.com     A  17\n"
     ]
    }
   ],
   "source": [
    "\n",
    "import pandas as pd\n",
    "\n",
    "datos=[\n",
    "        [\"john@mail.com\",\"A\",\"16\"],\n",
    "        [\"alice@mail.com\",\"B\",\"17\"],\n",
    "        [\"bob@mail.com\",\"C\",\"16\"],\n",
    "        [\"hannah@mail.com\",\"A\",\"17\"]\n",
    "]\n",
    "\n",
    "\n",
    "columnas=[\"email\", \"grade\", \"age\"]\n",
    "filas=[\"john\",\"Alice\",\"Bob\",\"Hannah\"]\n",
    "\n",
    "df=pd.DataFrame(datos,columns=columnas,index=filas)\n",
    "\n",
    "\n",
    "\n",
    "print(df)\n"
   ]
  },
  {
   "cell_type": "markdown",
   "metadata": {},
   "source": [
    "### CORRECCION Ejercicio 3\n",
    "\n",
    "La idea es obtener los datos del CSV, no crear los datos nosostros... antes de obtenerlos\n",
    "\n",
    "**MAL**"
   ]
  },
  {
   "cell_type": "markdown",
   "metadata": {},
   "source": [
    "### Ejercicio 4\n",
    "\n",
    "Carga el fichero CSV \"student.csv\", pero solo carga las columnas name, email y age."
   ]
  },
  {
   "cell_type": "code",
   "execution_count": 35,
   "metadata": {},
   "outputs": [
    {
     "name": "stdout",
     "output_type": "stream",
     "text": [
      "     name            email age\n",
      "1    John    john@mail.com  16\n",
      "2   Alice   alice@mail.com  17\n",
      "3     Bob     bob@mail.com  16\n",
      "4  Hannah  hannah@mail.com  17\n"
     ]
    }
   ],
   "source": [
    "#Para obtener solo ciertas columnas, revisa los parámetros del método que se utilizar para cargar un CSV en un DataFrame\n",
    "import pandas as pd\n",
    "\n",
    "datos=[\n",
    "        [\"John\",\"john@mail.com\",\"16\"],\n",
    "        [\"Alice\",\"alice@mail.com\",\"17\"],\n",
    "        [\"Bob\",\"bob@mail.com\",\"16\"],\n",
    "        [\"Hannah\",\"hannah@mail.com\",\"17\"]\n",
    "]\n",
    "\n",
    "\n",
    "columnas=[\"name\",\"email\",\"age\"]\n",
    "filas=[\"1\",\"2\",\"3\",\"4\"]\n",
    "\n",
    "df=pd.DataFrame(datos,columns=columnas,index=filas)\n",
    "\n",
    "\n",
    "\n",
    "print(df)"
   ]
  },
  {
   "cell_type": "markdown",
   "metadata": {},
   "source": [
    "### CORRECCION Ejercicio 4\n",
    "\n",
    "Igual que Ejercicio 3\n",
    "\n",
    "**MAL**"
   ]
  },
  {
   "cell_type": "markdown",
   "metadata": {},
   "source": [
    "### Ejercicio 5\n",
    "\n",
    "Pasar el XML \"students.xml\" a un diccionario con la siguiente estructura.<br>\n",
    "Una lista que contenga la siguiente información:\n",
    "<br>\n",
    "```python\n",
    "[\n",
    "  {\n",
    "    \"name\": \"John\"\n",
    "    \"email\": john@mail.com,\n",
    "    \"grade\": \"A\",\n",
    "    \"age\": 16\n",
    "  {\n",
    "    \"name\": \"Alice\"\n",
    "    \"email\": \"alice@mail.com\",\n",
    "    \"grade\": \"B\",\n",
    "    \"age\": 17\n",
    "},\n",
    "   ... \n",
    "] \n",
    "```\n",
    "Definir una función \"studentsXml2Dic\" con un parámetro que sea el nombre del fichero, y retorne el diccionario construido"
   ]
  },
  {
   "cell_type": "code",
   "execution_count": 4,
   "metadata": {},
   "outputs": [
    {
     "ename": "KeyError",
     "evalue": "('email', <Element 'student' at 0x000001D93AF8EEA0>)",
     "output_type": "error",
     "traceback": [
      "\u001b[1;31m---------------------------------------------------------------------------\u001b[0m",
      "\u001b[1;31mKeyError\u001b[0m                                  Traceback (most recent call last)",
      "\u001b[1;32m~\\AppData\\Local\\Temp/ipykernel_14548/2185615695.py\u001b[0m in \u001b[0;36m<module>\u001b[1;34m\u001b[0m\n\u001b[0;32m     27\u001b[0m \u001b[1;33m\u001b[0m\u001b[0m\n\u001b[0;32m     28\u001b[0m \u001b[1;31m#tagNombre=crearNodo(\"nombre\",students[\"nombre\",root])\u001b[0m\u001b[1;33m\u001b[0m\u001b[1;33m\u001b[0m\u001b[0m\n\u001b[1;32m---> 29\u001b[1;33m \u001b[0mtagEmail\u001b[0m\u001b[1;33m=\u001b[0m\u001b[0mcrearNodo\u001b[0m\u001b[1;33m(\u001b[0m\u001b[1;34m\"email\"\u001b[0m\u001b[1;33m,\u001b[0m\u001b[0mstudents\u001b[0m\u001b[1;33m[\u001b[0m\u001b[1;34m\"email\"\u001b[0m\u001b[1;33m,\u001b[0m\u001b[0mroot\u001b[0m\u001b[1;33m]\u001b[0m\u001b[1;33m)\u001b[0m\u001b[1;33m\u001b[0m\u001b[1;33m\u001b[0m\u001b[0m\n\u001b[0m\u001b[0;32m     30\u001b[0m \u001b[0mtagGrade\u001b[0m\u001b[1;33m=\u001b[0m\u001b[0mcrearNodo\u001b[0m\u001b[1;33m(\u001b[0m\u001b[1;34m\"grade\"\u001b[0m\u001b[1;33m,\u001b[0m\u001b[0mstudents\u001b[0m\u001b[1;33m[\u001b[0m\u001b[1;34m\"grade\"\u001b[0m\u001b[1;33m,\u001b[0m\u001b[0mroot\u001b[0m\u001b[1;33m]\u001b[0m\u001b[1;33m)\u001b[0m\u001b[1;33m\u001b[0m\u001b[1;33m\u001b[0m\u001b[0m\n\u001b[0;32m     31\u001b[0m \u001b[0mtagAge\u001b[0m\u001b[1;33m=\u001b[0m\u001b[0mcrearNodo\u001b[0m\u001b[1;33m(\u001b[0m\u001b[1;34m\"age\"\u001b[0m\u001b[1;33m,\u001b[0m\u001b[0mstudents\u001b[0m\u001b[1;33m[\u001b[0m\u001b[1;34m\"age\"\u001b[0m\u001b[1;33m,\u001b[0m\u001b[0mroot\u001b[0m\u001b[1;33m]\u001b[0m\u001b[1;33m)\u001b[0m\u001b[1;33m\u001b[0m\u001b[1;33m\u001b[0m\u001b[0m\n",
      "\u001b[1;31mKeyError\u001b[0m: ('email', <Element 'student' at 0x000001D93AF8EEA0>)"
     ]
    }
   ],
   "source": [
    "import xml.etree.ElementTree as et\n",
    "#Funcion crear nodo\n",
    "def crearNodo(tagName,tagContent=\"\",tagParent=None):\n",
    "    tagNodo = et.Element(tagName)\n",
    "    tagNodo.text= str(tagContent)\n",
    "\n",
    "    if (tagParent is not None):\n",
    "         tagParent.append(tagNodo)    \n",
    "    return tagNodo\n",
    "\n",
    "#Funcion para guardar arbol de nodos\n",
    "\n",
    "def saveTreeToXML(rootNode,xmlFileName):\n",
    "\n",
    "    treeXml = et.ElementTree(rootNode)\n",
    "    treeXml.write(xmlFileName)\n",
    "\n",
    "students={\n",
    "    \"nombre\" : \"John\",\n",
    "    \"email\" : \"john@mail.com\",\n",
    "    \"grade\" : \"A\",\n",
    "    \"age\": \"16\"\n",
    "}    \n",
    "\n",
    "\n",
    "root= crearNodo(\"student\")\n",
    "\n",
    "tagNombre=crearNodo(\"nombre\",students[\"nombre\",root])\n",
    "tagEmail=crearNodo(\"email\",students[\"email\",root])\n",
    "tagGrade=crearNodo(\"grade\",students[\"grade\",root])\n",
    "tagAge=crearNodo(\"age\",students[\"age\",root])\n",
    "\n",
    "ficheroXml = \"student.xml\"\n",
    "saveTreeToXML(root,ficheroXml)\n"
   ]
  },
  {
   "cell_type": "markdown",
   "metadata": {},
   "source": [
    "### CORRECCION Ejercicio 5\n",
    "\n",
    "Se pide retornar el diccionario, NO CREAR EL XML.\n",
    "\n",
    "**MAL**"
   ]
  },
  {
   "cell_type": "code",
   "execution_count": 3,
   "metadata": {},
   "outputs": [],
   "source": [
    "import xml.etree.ElementTree as et\n",
    "import json\n",
    "\n",
    "#Pasos para la realización\n",
    "# 1. Cargar y parsear el fichero con ElementTree\n",
    "# 2. Recorrer el XML e ir creando el diccionario por cada estudiante\n",
    "# 3. Agregar a la lista cada estudiente (diccionario) generado\n",
    "\n",
    "\n",
    "\n",
    "\n",
    "\n",
    "\n",
    "def studentsXml2Dic(strXmlFile):\n",
    "     \n",
    "     listaStudents = []\n",
    "\n",
    "     #Codifica la función restante\n",
    "     \n",
    "\n",
    "     return listaStudents\n"
   ]
  },
  {
   "cell_type": "code",
   "execution_count": null,
   "metadata": {},
   "outputs": [],
   "source": [
    "# Probar la función\n",
    "dictStudents = studentsXml2Dic(\"./res/student.xml\")\n",
    "\n",
    "#Para facilitar la visualización, utilizar este truco utilizando la libreria json.\n",
    "print(json.dumps(dictStudents,sort_keys=True,indent=4))"
   ]
  },
  {
   "cell_type": "markdown",
   "metadata": {},
   "source": [
    "### Ejercicio 6\n",
    "\n",
    "Pasar el diccionario creado en el ejercicio anterior, a un fichero XML \"estudiantes.xml\".<br>\n",
    "La estructura será igual al fichero XML \"student.xml\" (carpeta /res).\n",
    "Para ello utilizar la libreria \"xml.etree.ElementTree\".\n",
    "Fichero resultante debe ser este: \n",
    "<br>\n",
    "```xml\n",
    "<students>\n",
    "    <student name=\"John\">\n",
    "        <email>john@mail.com</email>\n",
    "        <grade>A</grade>\n",
    "        <age>16</age>\n",
    "    </student>\n",
    "    <student name=\"Alice\">\n",
    "        <email>alice@mail.com</email>\n",
    "        <grade>B</grade>\n",
    "        <age>17</age>\n",
    "    </student>\n",
    "    <student name=\"Bob\">\n",
    "        <email>bob@mail.com</email>\n",
    "        <grade>C</grade>\n",
    "        <age>16</age>\n",
    "    </student>\n",
    "    <student name=\"Hannah\">\n",
    "        <email>hannah@mail.com</email>\n",
    "        <grade>A</grade>\n",
    "        <age>17</age>\n",
    "    </student>\n",
    "</students>\n",
    "```\n",
    "Para ello hay que teneis que utilizar la libreria  "
   ]
  },
  {
   "cell_type": "code",
   "execution_count": 10,
   "metadata": {},
   "outputs": [],
   "source": [
    "import xml.etree.ElementTree as et\n",
    "import json\n",
    "\n",
    "#Pasos para la realización\n",
    "# 1. Parametros necesarios dicionario-estudiantes y nombre-fichero-xml-guardar\n",
    "# 2. Iterar por la lista de estudiantes\n",
    "# 3. Crear el nodo-raiz del XML\n",
    "# 4. Crear el nodo-estudiante\n",
    "# 5. Crear los Tag (age, email, grade)\n",
    "# 6. Agregar al nodo-estudiante los hijos (age,email,grade)\n",
    "# 7. Guardar el nodo-raiz como un fichero XML\n",
    "\n",
    "def studentsDic2Xml(dicStudents, strXmlFileToSave):\n",
    "\n",
    "    # 3. Crear el nodo-raiz del XML\n",
    "\n",
    "    # 2. Iterar por la lista de estudiantes\n",
    "\n",
    "\n",
    "        # 2.1. Crear el nodo-estudiante\n",
    "        \n",
    "        # 2.2. Crear los Tag (age, email, grade)\n",
    "\n",
    "        \n",
    "        # 2.3. Agregar al nodo-estudiante los hijos (age,email,grade)\n",
    "\n",
    "\n",
    "    #3. Crear el objeto xmlTree a partir del Elemento raiz\n",
    "\n",
    "    # 4. Guardar el nodo-raiz como un fichero XML\n",
    "    return None"
   ]
  },
  {
   "cell_type": "code",
   "execution_count": 9,
   "metadata": {},
   "outputs": [
    {
     "data": {
      "text/plain": [
       "''"
      ]
     },
     "execution_count": 9,
     "metadata": {},
     "output_type": "execute_result"
    }
   ],
   "source": [
    "# Probar la función\n",
    "\n",
    "#Llamar a la función anterior\n",
    "dictStudents = studentsXml2Dic(\"./res/student.xml\")\n",
    "\n",
    "#Convertir el diccionario en XML ==> llamar a la función\n",
    "studentsDic2Xml(dictStudents,'./res/estudiantes.xml')"
   ]
  },
  {
   "cell_type": "markdown",
   "metadata": {},
   "source": [
    "### CORRECCION Ejercicio 6\n",
    "\n",
    "**MAL**"
   ]
  },
  {
   "cell_type": "markdown",
   "metadata": {},
   "source": [
    "### Ejercicio 7\n",
    "\n",
    "Pasar el XML \"ciclos-ies-gonzalo-nazareno.xml\" a la siguiente estructura python.<br>\n",
    "```python\n",
    "{\n",
    "    \"nombre\": \"IES Gonzalo Nzareno\",\n",
    "    \"web\": \"\",\n",
    "    \"ciclos\": [\n",
    "        {\n",
    "            \"id\": \"ASIR\",\n",
    "            \"nombre\": \"Administración de Sistemas informáticos en Red\",\n",
    "            \"grado\": \"Superior\",\n",
    "            \"decretoTitulo\": \"2009\"\n",
    "        },\n",
    "         {\n",
    "            \"id\": \"DAW\",\n",
    "            \"nombre\": \"Desarrollo de Aplicaciones Web\",\n",
    "            \"grado\": \"Superior\",\n",
    "            \"decretoTitulo\": \"2010\"\n",
    "        },\n",
    "    ],\n",
    "    \"modulos\": [\n",
    "        {\n",
    "            \"id\": 228,\n",
    "            \"modulo\": \"Aplicaciones Web\",\n",
    "            \"curso\": 2,\n",
    "            \"horasSemanales\": 4,\n",
    "            \"ciclo\": \"SMR\"\n",
    "        },\n",
    "         {\n",
    "            \"id\": 373,\n",
    "            \"modulo\": \"Lenguajes de marcas y sistemas de gestión de información\",\n",
    "            \"curso\": 1,\n",
    "            \"horasSemanales\": 4,\n",
    "            \"ciclo\": [\"ASIR\", \"DAW\", \"DAM\" ]\n",
    "        },\n",
    "    ]\n",
    "} \n",
    "```\n",
    "Definir una función \"ciclosXml2Dic\" con un parámetro que sea el nombre del fichero, y retorne la estructura construida."
   ]
  },
  {
   "cell_type": "code",
   "execution_count": null,
   "metadata": {},
   "outputs": [],
   "source": [
    "import xml.etree.ElementTree as et\n",
    "import json\n",
    "\n",
    "#Pasos para la realización\n",
    "# 1. Cargar y parsear el fichero con ElementTree\n",
    "# 2. Recorrer el XML e ir creando el diccionario por cada estudiante\n",
    "# 3. Agregar a la lista cada estudiente (diccionario) generado\n",
    "\n",
    "def ciclosXml2Dic(strXmlFile):\n",
    "\n",
    "    #Cargar y parsear el ficheero\n",
    "    \n",
    "    #Obtener el nodo raiz\n",
    "    \n",
    "\n",
    "    #Variables iniciales\n",
    "    dc = {}\n",
    "    ciclos = []\n",
    "    modulos = []\n",
    "\n",
    "    # Cargar el nombre y la web\n",
    "\n",
    "\n",
    "    # Obtener los ciclos\n",
    "\n",
    "\n",
    "    # Obtener los módulos\n",
    "\n",
    "\n",
    "    ## Formar el diccionario final\n",
    "\n",
    "\n",
    "    # Retornar el diccionario\n",
    "    return dc"
   ]
  },
  {
   "cell_type": "code",
   "execution_count": null,
   "metadata": {},
   "outputs": [],
   "source": [
    "#Probar la función\n",
    "dict = ciclosXml2Dic(\"./res/ciclos-ies-gonzalo-nazareno.xml\")\n",
    "print(dict)"
   ]
  },
  {
   "cell_type": "markdown",
   "metadata": {},
   "source": [
    "### CORRECCION Ejercicio 7\n",
    "\n",
    "**MAL**"
   ]
  }
 ],
 "metadata": {
  "interpreter": {
   "hash": "ec9676ad9f5f678c6129e80930667ff10a4176bd4043345bcdc6bd53c57c67c7"
  },
  "kernelspec": {
   "display_name": "Python 3.9.10 64-bit (windows store)",
   "language": "python",
   "name": "python3"
  },
  "language_info": {
   "codemirror_mode": {
    "name": "ipython",
    "version": 3
   },
   "file_extension": ".py",
   "mimetype": "text/x-python",
   "name": "python",
   "nbconvert_exporter": "python",
   "pygments_lexer": "ipython3",
   "version": "3.9.12"
  },
  "orig_nbformat": 4
 },
 "nbformat": 4,
 "nbformat_minor": 2
}
