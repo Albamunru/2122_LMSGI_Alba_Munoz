{
 "cells": [
  {
   "cell_type": "markdown",
   "metadata": {},
   "source": []
  },
  {
   "cell_type": "markdown",
   "metadata": {},
   "source": []
  },
  {
   "cell_type": "markdown",
   "metadata": {},
   "source": [
    "# Índice\n",
    "\n",
    "1. [Funciones](#funcions)\n",
    "2. [Trabajo con listas](#list)\n",
    "2. [Trabajo con diccionadrios](#dict)"
   ]
  },
  {
   "cell_type": "markdown",
   "metadata": {},
   "source": [
    "## 1º. Función Max()\n"
   ]
  },
  {
   "cell_type": "markdown",
   "metadata": {},
   "source": [
    "Definir una función max() que tome como argumento dos números y devuelva el mayor de ellos. (Es cierto que python tiene una función max() incorporada, pero hacerla nosotros mismos es un muy buen ejercicio.\n",
    "<!--  -->\n",
    "(Se debe incluir una casilla para definir la función, y otras casillas para los posibles casos)"
   ]
  },
  {
   "cell_type": "code",
   "execution_count": 3,
   "metadata": {},
   "outputs": [],
   "source": [
    "# definir funcion\n",
    "def max(numUno,numDos):\n",
    "    if numUno>numDos:\n",
    "        return numUno\n",
    "    else:\n",
    "        return numDos"
   ]
  },
  {
   "cell_type": "code",
   "execution_count": 4,
   "metadata": {},
   "outputs": [
    {
     "name": "stdout",
     "output_type": "stream",
     "text": [
      "max 7,20: 20\n",
      "max 5,3: 5\n"
     ]
    }
   ],
   "source": [
    "# Probar la funcion\n",
    "print(\"max 7,20:\", max(7,20))\n",
    "print(\"max 5,3:\", max(5,3))"
   ]
  },
  {
   "cell_type": "markdown",
   "metadata": {},
   "source": [
    "<a id=\"2\"></a>\n",
    "## 2º. Función Max() con 3 valores\n"
   ]
  },
  {
   "cell_type": "markdown",
   "metadata": {},
   "source": [
    "Definir una función max_de_tres(), que tome tres números como argumentos y devuelva el mayor de ellos."
   ]
  },
  {
   "cell_type": "code",
   "execution_count": 2,
   "metadata": {},
   "outputs": [],
   "source": [
    "def mayor_de_tres(numUno,numDos,numTres):\n",
    "    if numUno>numDos and numUno>numTres:\n",
    "        print(\"El mayor es \", numUno)\n",
    "    elif numDos>numUno and numDos>numTres:\n",
    "        print(\" El mayor es \", numDos)\n",
    "    elif numTres>numUno and numTres>numDos:\n",
    "        print(\"El mayor es \", numTres)  \n",
    "    else:\n",
    "        print(\" Son iguales\")          "
   ]
  },
  {
   "cell_type": "code",
   "execution_count": 3,
   "metadata": {},
   "outputs": [
    {
     "name": "stdout",
     "output_type": "stream",
     "text": [
      "El mayor es  8\n"
     ]
    }
   ],
   "source": [
    "mayor_de_tres(6,7,8)\n"
   ]
  },
  {
   "cell_type": "markdown",
   "metadata": {},
   "source": [
    "<a id=\"3\"></a>\n",
    "## 3º. Función Len()\n"
   ]
  },
  {
   "cell_type": "markdown",
   "metadata": {},
   "source": [
    "Definir una función que calcule la longitud de una lista o una cadena dada. (Es cierto que python tiene la función len() incorporada, pero escribirla por nosotros mismos resulta un muy buen ejercicio."
   ]
  },
  {
   "cell_type": "code",
   "execution_count": 1,
   "metadata": {},
   "outputs": [],
   "source": [
    "#no soy capaz de crear la funcion y uso la que existe\n",
    "def longitud(lista):\n",
    "    return len(lista)\n",
    "    \n",
    "    \n",
    "    "
   ]
  },
  {
   "cell_type": "code",
   "execution_count": 4,
   "metadata": {},
   "outputs": [
    {
     "name": "stdout",
     "output_type": "stream",
     "text": [
      "LA LONGITUD ES:\n"
     ]
    },
    {
     "data": {
      "text/plain": [
       "5"
      ]
     },
     "execution_count": 4,
     "metadata": {},
     "output_type": "execute_result"
    }
   ],
   "source": [
    "# Probar la funcion\n",
    "fruta='platano', 'melon'\n",
    "print (\"LA LONGITUD ES:\")\n",
    "longitud(fruta)\n",
    "\n"
   ]
  },
  {
   "cell_type": "markdown",
   "metadata": {},
   "source": [
    "<a id=\"4\"></a>\n",
    "## 4º. EsVocal\n"
   ]
  },
  {
   "cell_type": "markdown",
   "metadata": {},
   "source": [
    "Escribir una función que tome un carácter y devuelva True si es una vocal, de lo contrario devuelve False."
   ]
  },
  {
   "cell_type": "code",
   "execution_count": 10,
   "metadata": {},
   "outputs": [],
   "source": [
    "# Definir la función\n",
    "def esVocal(letra):\n",
    "    if letra==\"a\" or letra==\"e\" or letra==\"i\" or letra==\"o\" or letra==\"u\":\n",
    "        print(\" Es vocal\")\n",
    "    else:\n",
    "        print(\" Es consonante\")\n"
   ]
  },
  {
   "cell_type": "code",
   "execution_count": 19,
   "metadata": {},
   "outputs": [
    {
     "name": "stdout",
     "output_type": "stream",
     "text": [
      " Es consonante\n"
     ]
    }
   ],
   "source": [
    "# Probar la funcion\n",
    "letra=input(\"Introduce una letra\")\n",
    "esVocal(letra)\n",
    "\n",
    " "
   ]
  },
  {
   "cell_type": "markdown",
   "metadata": {},
   "source": [
    "<a id=\"5\"></a>\n",
    "## 5º. Sumar y multiplicar\n"
   ]
  },
  {
   "cell_type": "markdown",
   "metadata": {},
   "source": [
    "Escribir una función sum() y una función multip() que sumen y multipliquen respectivamente todos los números de una lista. Por ejemplo: sum([1,2,3,4]) debería devolver 10 y multip([1,2,3,4]) debería devolver 24."
   ]
  },
  {
   "cell_type": "code",
   "execution_count": 1,
   "metadata": {},
   "outputs": [],
   "source": [
    "# Definir la función\n",
    "def sum(a,b,c,d):\n",
    "    suma=a+b+c+d\n",
    "    return suma\n",
    "\n",
    "def multip(a,b,c,d):\n",
    "    multiplicacion=a*b*c*d\n",
    "    return multiplicacion    \n",
    "    "
   ]
  },
  {
   "cell_type": "code",
   "execution_count": 20,
   "metadata": {},
   "outputs": [
    {
     "name": "stdout",
     "output_type": "stream",
     "text": [
      "La suma de todos los numeros es:  15\n",
      "La multiplicacion de todos los numeros es:  40\n"
     ]
    }
   ],
   "source": [
    "# Probar la funcion\n",
    "suma=sum(6,2,3,4)\n",
    "multiplicacion=multip(2,1,4,5)\n",
    "\n",
    "print ('La suma de todos los numeros es: ',suma)\n",
    "\n",
    "print (\"La multiplicacion de todos los numeros es: \",multiplicacion)\n"
   ]
  },
  {
   "cell_type": "markdown",
   "metadata": {},
   "source": [
    "<a id=\"6\"></a>\n",
    "## 6º. Invertir cadena\n"
   ]
  },
  {
   "cell_type": "markdown",
   "metadata": {},
   "source": [
    " Definir una función inversa() que calcule la inversión de una cadena. Por ejemplo la cadena \"estoy probando\" debería devolver la cadena \"odnaborp yotse\""
   ]
  },
  {
   "cell_type": "code",
   "execution_count": 22,
   "metadata": {},
   "outputs": [],
   "source": [
    "# Definir la función\n",
    "def inversa(palabra):\n",
    "    return print(palabra[::-1])\n",
    "\n"
   ]
  },
  {
   "cell_type": "code",
   "execution_count": 30,
   "metadata": {},
   "outputs": [
    {
     "name": "stdout",
     "output_type": "stream",
     "text": [
      "odnaborp yotse\n"
     ]
    }
   ],
   "source": [
    "# Probar la funcion\n",
    "\n",
    "nombre=\"estoy probando\"\n",
    "\n",
    "inversa(nombre)\n",
    "\n",
    "\n"
   ]
  },
  {
   "cell_type": "markdown",
   "metadata": {},
   "source": [
    "<a id=\"7\"></a>\n",
    "## 7º. EsPalindromo\n"
   ]
  },
  {
   "cell_type": "markdown",
   "metadata": {},
   "source": [
    "  Definir una función es_palindromo() que reconoce palíndromos (es decir, palabras que tienen el mismo aspecto escritas invertidas), ejemplo: es_palindromo (\"radar\") tendría que devolver True."
   ]
  },
  {
   "cell_type": "code",
   "execution_count": 36,
   "metadata": {},
   "outputs": [],
   "source": [
    "# Definir la función\n",
    "\n",
    "def es_palindromo(palabra):\n",
    "    if str(palabra) == str(palabra)[::-1] :\n",
    "        print(\" Es Palindromo\")\n",
    "    else:\n",
    "        print(\"No es Palindromo\")\n",
    "\n",
    "    "
   ]
  },
  {
   "cell_type": "code",
   "execution_count": 37,
   "metadata": {},
   "outputs": [
    {
     "name": "stdout",
     "output_type": "stream",
     "text": [
      " Es Palindromo\n"
     ]
    }
   ],
   "source": [
    "# Probar la funcion\n",
    "es_palindromo(\"radar\")"
   ]
  },
  {
   "cell_type": "markdown",
   "metadata": {},
   "source": [
    "<a id=\"8\"></a>\n",
    "## 8º. Superposición\n"
   ]
  },
  {
   "cell_type": "markdown",
   "metadata": {},
   "source": [
    "  Definir una función superposicion() que tome dos listas y devuelva True si tienen al menos 1 miembro en común o devuelva False de lo contrario. Escribir la función usando el bucle for anidado."
   ]
  },
  {
   "cell_type": "code",
   "execution_count": 47,
   "metadata": {},
   "outputs": [],
   "source": [
    "# Definir la función\n",
    "def superposicion(a,b):\n",
    "    for x in a:\n",
    "        for y in b:\n",
    "            if a == b:\n",
    "             return True  \n",
    "            else:\n",
    "                return False   \n",
    "        "
   ]
  },
  {
   "cell_type": "code",
   "execution_count": 48,
   "metadata": {},
   "outputs": [
    {
     "data": {
      "text/plain": [
       "False"
      ]
     },
     "execution_count": 48,
     "metadata": {},
     "output_type": "execute_result"
    }
   ],
   "source": [
    "# Probar la funcion\n",
    "a='hola'\n",
    "b='hoa'\n",
    "superposicion(a,b)"
   ]
  },
  {
   "cell_type": "markdown",
   "metadata": {},
   "source": [
    "<a id=\"8\"></a>\n",
    "## 8º. Generar N carácteres\n"
   ]
  },
  {
   "cell_type": "markdown",
   "metadata": {},
   "source": [
    "Definir una función generar_n_caracteres() que tome un entero n y devuelva el caracter multiplicado por n. Por ejemplo: generar_n_caracteres(5, \"x\") debería devolver \"xxxxx\".  (Pista: multiplicar)\n"
   ]
  },
  {
   "cell_type": "code",
   "execution_count": 49,
   "metadata": {},
   "outputs": [],
   "source": [
    "# Definir la función\n",
    "def generar_n_caracteres(numero,caracter):\n",
    "   total= numero*caracter\n",
    "   return total\n",
    "   \n"
   ]
  },
  {
   "cell_type": "code",
   "execution_count": 50,
   "metadata": {},
   "outputs": [
    {
     "data": {
      "text/plain": [
       "'sssss'"
      ]
     },
     "execution_count": 50,
     "metadata": {},
     "output_type": "execute_result"
    }
   ],
   "source": [
    "# Probar la funcion\n",
    "generar_n_caracteres(5,'s')"
   ]
  },
  {
   "cell_type": "markdown",
   "metadata": {},
   "source": [
    "<a id=\"9\"></a>\n",
    "## 9º. Histograma\n"
   ]
  },
  {
   "cell_type": "markdown",
   "metadata": {},
   "source": [
    "Definir un histograma procedimiento() que tome una lista de números enteros e imprima un histograma en la pantalla. Ejemplo: procedimiento([4, 9, 7]) debería imprimir lo siguiente: <br>\n",
    "++++<br>\n",
    "+++++++++<br>\n",
    "+++++++<br>\n"
   ]
  },
  {
   "cell_type": "code",
   "execution_count": 51,
   "metadata": {},
   "outputs": [],
   "source": [
    "# Definir la función\n",
    "def procedimiento(lista,caracter='+'):\n",
    "    for x in lista:\n",
    "        print(caracter * x)\n"
   ]
  },
  {
   "cell_type": "code",
   "execution_count": 52,
   "metadata": {},
   "outputs": [
    {
     "name": "stdout",
     "output_type": "stream",
     "text": [
      "+++++\n",
      "+++++++\n",
      "++\n",
      "+++\n"
     ]
    }
   ],
   "source": [
    "# Probar la funcion\n",
    "\n",
    "lista=[5,7,2,3]\n",
    "procedimiento(lista)"
   ]
  },
  {
   "cell_type": "markdown",
   "metadata": {},
   "source": [
    "<a id=\"list\"></a>\n",
    "# Trabajo con listas\n",
    "\n",
    "[Ayuda sobre listas en python](https://www.w3schools.com/python/python_lists.asp)<br><br>"
   ]
  },
  {
   "cell_type": "markdown",
   "metadata": {},
   "source": [
    "\n",
    "## 1º. Sumar elementos lista\n"
   ]
  },
  {
   "cell_type": "markdown",
   "metadata": {},
   "source": [
    "Definir una función para sumar todos los elementos de una lista pasada como parámetro\n"
   ]
  },
  {
   "cell_type": "code",
   "execution_count": 1,
   "metadata": {},
   "outputs": [],
   "source": [
    "# Definir la función\n",
    "def sumarlista(lista):\n",
    "    resultado=0\n",
    "    for n in lista:\n",
    "        resultado+=n\n",
    "    return resultado\n"
   ]
  },
  {
   "cell_type": "code",
   "execution_count": 2,
   "metadata": {},
   "outputs": [
    {
     "data": {
      "text/plain": [
       "30"
      ]
     },
     "execution_count": 2,
     "metadata": {},
     "output_type": "execute_result"
    }
   ],
   "source": [
    "# Probar la funcion\n",
    "lista1 = [ 2,5,6,8,9 ]\n",
    "sumarlista(lista1)"
   ]
  },
  {
   "cell_type": "markdown",
   "metadata": {},
   "source": [
    "\n",
    "## 2º. Multiplicar elementos lista\n"
   ]
  },
  {
   "cell_type": "markdown",
   "metadata": {},
   "source": [
    "Definir una función para multiplicar todos los elementos de una lista pasada como parámetro\n"
   ]
  },
  {
   "cell_type": "code",
   "execution_count": 10,
   "metadata": {},
   "outputs": [],
   "source": [
    "# Definir la función\n",
    "def multiplicarlista(lista):\n",
    "    producto=1\n",
    "    for numero in lista:\n",
    "        producto*=numero\n",
    "    return producto"
   ]
  },
  {
   "cell_type": "code",
   "execution_count": 11,
   "metadata": {},
   "outputs": [
    {
     "data": {
      "text/plain": [
       "4320"
      ]
     },
     "execution_count": 11,
     "metadata": {},
     "output_type": "execute_result"
    }
   ],
   "source": [
    "# Probar la funcion\n",
    "lista1 = [ 2,5,6,8,9 ]\n",
    "multiplicarlista(lista)\n"
   ]
  },
  {
   "cell_type": "markdown",
   "metadata": {},
   "source": [
    "\n",
    "## 3º. Obtener elemento mayor lista\n"
   ]
  },
  {
   "cell_type": "markdown",
   "metadata": {},
   "source": [
    "Definir una función que obtenga el elemento mayor de la lista pasada como parámetro\n"
   ]
  },
  {
   "cell_type": "code",
   "execution_count": 3,
   "metadata": {},
   "outputs": [],
   "source": [
    "# Definir la función\n",
    "def elemento_mayor(lista):\n",
    "    mayor=lista[0]\n",
    "    for x in lista:\n",
    "        if x>mayor:\n",
    "            mayor=x\n",
    "    return mayor        \n"
   ]
  },
  {
   "cell_type": "code",
   "execution_count": 2,
   "metadata": {},
   "outputs": [
    {
     "name": "stdout",
     "output_type": "stream",
     "text": [
      "9\n"
     ]
    }
   ],
   "source": [
    "# Probar la funcion\n",
    "lista = [ 2,5,6,8,9 ]\n",
    "mayor=elemento_mayor(lista)\n",
    "print(mayor)"
   ]
  },
  {
   "cell_type": "markdown",
   "metadata": {},
   "source": [
    "\n",
    "## 4º. Cadenas mayores a 2 con inicio y fin iguales\n"
   ]
  },
  {
   "cell_type": "markdown",
   "metadata": {},
   "source": [
    "Definir una función que cuente el nº de cadenas que cumplan:<br> a) donde la longitud mínima de cadena debe ser 2<br> b) el primer y último carácter sean iguales<br><br>\n",
    "Ejemplo: ['abc', 'xyz', 'aba', '1221']<br>\n",
    "Resultado: 2\n"
   ]
  },
  {
   "cell_type": "code",
   "execution_count": 38,
   "metadata": {},
   "outputs": [],
   "source": [
    "# Definir la función\n",
    "def cadenaMayorDeDosInicioYFinIgual(lista):\n",
    "    listaSolucion=lista()\n",
    "\n",
    "    for n in lista:\n",
    "         if len(lista)>=3 and lista[0] ==lista[2]:\n",
    "          listaSolucion.append(lista)\n",
    "    return listaSolucion\n"
   ]
  },
  {
   "cell_type": "code",
   "execution_count": 41,
   "metadata": {},
   "outputs": [
    {
     "name": "stdout",
     "output_type": "stream",
     "text": [
      "<function cadenaMayorDeDosInicioYFinIgual at 0x0000025333074DC0>\n"
     ]
    }
   ],
   "source": [
    "# Probar la funcion\n",
    "lista=['abc','xyz','aba']\n",
    "resultado=cadenaMayorDeDosInicioYFinIgual\n",
    "print(resultado)\n"
   ]
  },
  {
   "cell_type": "markdown",
   "metadata": {},
   "source": [
    "\n",
    "## 5º. Ordenar lista por último elemento de la tupla\n"
   ]
  },
  {
   "cell_type": "markdown",
   "metadata": {},
   "source": [
    "Definir una función que reciba una lista de tuplas, y que ordene la lista por el útlimo elemento de la tupla<br><br>\n",
    "Lista a pasar : [(2, 5), (1, 2), (4, 4), (2, 3), (2, 1)]<br>\n",
    "Resultado-esperado : [(2, 1), (1, 2), (2, 3), (4, 4), (2, 5)]"
   ]
  },
  {
   "cell_type": "code",
   "execution_count": 57,
   "metadata": {},
   "outputs": [],
   "source": [
    "# Definir la función\n",
    "#def ordenarPorUltimoElemento(lista):\n",
    "    #descender=lista[-1]\n",
    "    #return sorted(lista,descender)\n",
    "def descender(n): \n",
    "    return n[-1]   \n",
    "   \n",
    "def ordenarAlReves(tupla): \n",
    "    return sorted(tupla, tabla=descender) \n",
    "   \n"
   ]
  },
  {
   "cell_type": "code",
   "execution_count": 60,
   "metadata": {},
   "outputs": [
    {
     "name": "stdout",
     "output_type": "stream",
     "text": [
      "[(2, 5), (1, 2), (4, 4), (2, 3), (2, 1)]\n",
      "Ordenado:\n",
      "[(2, 1), (1, 2), (2, 3), (4, 4), (2, 5)]\n"
     ]
    }
   ],
   "source": [
    "# Probar la funcion\n",
    "tupla=[(2,5),(1,2),(4,4),(2,3),(2,1)] \n",
    "print(tupla)\n",
    "print(\"Ordenado:\") \n",
    "print(sort(tupla))\n"
   ]
  },
  {
   "cell_type": "markdown",
   "metadata": {},
   "source": [
    "\n",
    "## 6º. Eliminar duplicados en lista\n"
   ]
  },
  {
   "cell_type": "markdown",
   "metadata": {},
   "source": [
    "Definir una función que elimine los elementos duplicados de una lista"
   ]
  },
  {
   "cell_type": "code",
   "execution_count": 4,
   "metadata": {},
   "outputs": [],
   "source": [
    "# Definir la función\n",
    "def eliminarDuplicado(lista):\n",
    "    otraLista=[]\n",
    "    for i in lista:\n",
    "        if i not in otraLista:\n",
    "            otraLista.append(i)\n",
    "    return otraLista        \n",
    "     \n",
    " \n",
    "    "
   ]
  },
  {
   "cell_type": "code",
   "execution_count": 6,
   "metadata": {},
   "outputs": [
    {
     "name": "stdout",
     "output_type": "stream",
     "text": [
      " La primera lista es:  [6, 5, 4, 6, 2, 1, 1, 6, 8, 1, 5]\n",
      "la nueva lista es: [6, 5, 4, 2, 1, 8]\n"
     ]
    }
   ],
   "source": [
    "# Probar la funcion\n",
    "lista=[6,5,4,6,2,1,1,6,8,1,5]\n",
    "print(\" La primera lista es: \",lista)\n",
    "\n",
    "solucion=eliminarDuplicado(lista)\n",
    "print(\"la nueva lista es:\",solucion)\n"
   ]
  },
  {
   "cell_type": "markdown",
   "metadata": {},
   "source": [
    "\n",
    "## 7º. Lista vacia?\n"
   ]
  },
  {
   "cell_type": "markdown",
   "metadata": {},
   "source": [
    "Definir una función isEmpty que reciba como parametro una lista e indica si está vacia"
   ]
  },
  {
   "cell_type": "code",
   "execution_count": 7,
   "metadata": {},
   "outputs": [],
   "source": [
    "# Definir la función\n",
    "def listaVacia(lista):\n",
    "    if len(lista)==0:\n",
    "        print(\"la lista esta vacia\")\n",
    "    else:\n",
    "        print(\" la lista esta llena\") \n"
   ]
  },
  {
   "cell_type": "code",
   "execution_count": 8,
   "metadata": {},
   "outputs": [
    {
     "name": "stdout",
     "output_type": "stream",
     "text": [
      "[]\n",
      "la lista esta vacia\n"
     ]
    }
   ],
   "source": [
    "# Probar la funcion\n",
    "lista=[]\n",
    "print(lista)\n",
    "listaVacia(lista)\n"
   ]
  },
  {
   "cell_type": "markdown",
   "metadata": {},
   "source": [
    "\n",
    "## 8º. Primeros y últimos al cuadrado\n"
   ]
  },
  {
   "cell_type": "markdown",
   "metadata": {},
   "source": [
    "Escribir un programa/función que genera e imprime una lista de los primeros y últimos 5 elementos donde los valores son elevados al cuadrado. Generar los números entre 1 y 30 ambos incluidos.\n",
    "[Imagen ejemplo](https://www.w3resource.com/w3r_images/Python-data-type-list-excercise-16.png)"
   ]
  },
  {
   "cell_type": "code",
   "execution_count": 29,
   "metadata": {},
   "outputs": [],
   "source": [
    "# Definir la función\n",
    "\n",
    "def exponentes(lista,p):\n",
    "    return [n**p for n in lista]"
   ]
  },
  {
   "cell_type": "code",
   "execution_count": 30,
   "metadata": {},
   "outputs": [
    {
     "name": "stdout",
     "output_type": "stream",
     "text": [
      "La lista es: \n",
      "  [1, 2, 3, 4, 5, 6, 7, 8, 9, 10, 11, 12, 13, 14, 15, 16, 17, 18, 19, 20, 21, 22, 23, 24, 25, 26, 27, 28, 29, 30]\n",
      "El resultado de elevar a la potencia es: \n",
      "   Los 5 primeros \n",
      " [1, 4, 9, 16, 25]  \n",
      " Los 5 ultimoss \n",
      " [676, 729, 784, 841, 900]\n"
     ]
    }
   ],
   "source": [
    "# Probar la funcion\n",
    "x= range(1,31)\n",
    "\n",
    "resultado=exponentes(x,2)\n",
    "\n",
    "print(\"La lista es: \\n \", list(x))\n",
    "\n",
    "print(\"El resultado de elevar a la potencia es: \\n \",\" Los 5 primeros \\n\", resultado[:5],\" \\n Los 5 ultimoss \\n\", resultado[25:30])\n",
    "\n"
   ]
  },
  {
   "cell_type": "markdown",
   "metadata": {},
   "source": [
    "\n",
    "## 9º. Concatenar elementos\n"
   ]
  },
  {
   "cell_type": "markdown",
   "metadata": {},
   "source": [
    "Definir una función para crear un lista concatenando a cada elemento de la lista, todos los números en una secuencia, desde 1 a N, siendo N pasado como parámetro.<br><br>\n",
    "Lista-ejemplo : ['p', 'q']<br>\n",
    "n =5<br>\n",
    "Resultado esperado : ['p1', 'q1', 'p2', 'q2', 'p3', 'q3', 'p4', 'q4', 'p5', 'q5']<br>"
   ]
  },
  {
   "cell_type": "code",
   "execution_count": 35,
   "metadata": {},
   "outputs": [],
   "source": [
    "# Definir la función\n",
    "def concatenarElemento(lista,numero):\n",
    "    concatenar=lista*numero\n",
    "   \n",
    "    return concatenar\n"
   ]
  },
  {
   "cell_type": "code",
   "execution_count": 36,
   "metadata": {},
   "outputs": [
    {
     "name": "stdout",
     "output_type": "stream",
     "text": [
      "['a', 'b', 'a', 'b', 'a', 'b', 'a', 'b']\n"
     ]
    }
   ],
   "source": [
    "# Probar la funcion\n",
    "#print(\"Introduzca las veces que quieres que se repita\")\n",
    "#Numero=input()\n",
    "Lista=['a','b']\n",
    "Numero=4\n",
    "resultado=concatenarElemento(Lista,Numero)\n",
    "print(resultado)\n",
    "\n",
    "#No soy capaz que me lo haga por un numero metido por teclado pero luego igualo una variable a un numero y si me lo hace.\n"
   ]
  },
  {
   "cell_type": "markdown",
   "metadata": {},
   "source": [
    "\n",
    "## 10º. Generar grupos de 5 elementos\n"
   ]
  },
  {
   "cell_type": "markdown",
   "metadata": {},
   "source": [
    "Definir una función que genere grupos de 5 consecutivos números dentro de una lista.<br>\n",
    "[Imagen ejemplo](https://www.w3resource.com/w3r_images/Python-data-type-list-excercise-44.png)<br>\n",
    "\n",
    "Se puede realizar de 2 formas:<br><br>\n",
    "\n",
    "a) con for y agregando a listas<br>\n",
    "b) con listas comprimidas(https://www.w3schools.com/python/python_lists_comprehension.asp)"
   ]
  },
  {
   "cell_type": "code",
   "execution_count": 50,
   "metadata": {},
   "outputs": [],
   "source": [
    "# Definir la función\n"
   ]
  },
  {
   "cell_type": "code",
   "execution_count": 51,
   "metadata": {},
   "outputs": [
    {
     "name": "stdout",
     "output_type": "stream",
     "text": [
      "<function grupos at 0x0000025333080C10>\n"
     ]
    }
   ],
   "source": [
    "# Probar la función\n"
   ]
  },
  {
   "cell_type": "markdown",
   "metadata": {},
   "source": [
    "<a id=\"dict\"></a>\n",
    "# Trabajo con diccionarios\n",
    "\n",
    "[Ayuda sobre diccionarios en python](https://www.w3schools.com/python/python_dictionaries.asp)"
   ]
  },
  {
   "cell_type": "markdown",
   "metadata": {},
   "source": [
    "\n",
    "## 1º. Operaciones básicas sobre diccionarios\n"
   ]
  },
  {
   "cell_type": "markdown",
   "metadata": {},
   "source": [
    "Definir un código para iterar sobre los elementos del siguiente diccionario\n",
    "\n",
    "Equipo = {'Rafa':'Científico de datos',\n",
    "         'Pedro':'Arquitecto de datos',\n",
    "         'Javier':'Ingeniero de datos',\n",
    "         'Antonio':'Director'}\n",
    "<br>        \n",
    "Imprimiendo la siguiente salida:<br>\n",
    "\n",
    "Rafa - Científico de datos<br>\n",
    "Pedro - Arquitecto de datos<br>\n",
    "Javier - Ingeniero de datos<br>\n",
    "Antonio - Director<br>"
   ]
  },
  {
   "cell_type": "code",
   "execution_count": 22,
   "metadata": {},
   "outputs": [],
   "source": [
    "# Definir el código\n",
    "def dedicar(clave):\n",
    "    resultado=Equipo.get(clave)\n",
    "    return resultado\n",
    "    \n",
    "        "
   ]
  },
  {
   "cell_type": "code",
   "execution_count": 25,
   "metadata": {},
   "outputs": [
    {
     "name": "stdout",
     "output_type": "stream",
     "text": [
      "Ingeniero de datos\n"
     ]
    }
   ],
   "source": [
    "# Otener el nombre del Equipo de Pedro\n",
    "Equipo = {'Rafa':'Científico de datos',\n",
    "         'Pedro':'Arquitecto de datos',\n",
    "         'Javier':'Ingeniero de datos',\n",
    "         'Antonio':'Director'}\n",
    "\n",
    "\n",
    "nombre=dedicar('Pedro')\n",
    "\n",
    "print(nombre)\n",
    "\n",
    "\n"
   ]
  },
  {
   "cell_type": "markdown",
   "metadata": {},
   "source": [
    "\n",
    "## 2º. Concatenear diccionarios\n"
   ]
  },
  {
   "cell_type": "markdown",
   "metadata": {},
   "source": [
    "Definir una función para concatenar 2 diccionarios pasados como parámetros.  [Imagen ilustrativa](https://www.w3resource.com/w3r_images/python-data-type-dictionary-image-exercise-3.png)\n",
    "\n",
    "Ejemplo diccionario: dic1={1:10, 2:20} dic2={3:30, 4:40}\n",
    "\n",
    "Experado resultado: {1: 10, 2: 20, 3: 30, 4: 40, 5: 50, 6: 60}"
   ]
  },
  {
   "cell_type": "code",
   "execution_count": 49,
   "metadata": {},
   "outputs": [],
   "source": [
    "# Definir el código\n",
    "\n",
    "def concatenardiccionario(dic1,dic2):\n",
    "    return(dic2.update(dic1))\n",
    "    \n",
    "\n",
    "     "
   ]
  },
  {
   "cell_type": "code",
   "execution_count": 51,
   "metadata": {},
   "outputs": [
    {
     "name": "stdout",
     "output_type": "stream",
     "text": [
      "None\n",
      "{3: 30, 4: 40, 1: 10, 2: 20}\n"
     ]
    }
   ],
   "source": [
    "# Probar el código\n",
    "\n",
    "dic1={1: 10, 2: 20} \n",
    "dic2={3: 30, 4: 40}\n",
    "\n",
    "resul=concatenardiccionario(dic1,dic2)\n",
    "print(resul)\n",
    "print(dic2)\n",
    "\n",
    "\n"
   ]
  },
  {
   "cell_type": "markdown",
   "metadata": {},
   "source": [
    "\n",
    "## 3º. Generar diccionario \n"
   ]
  },
  {
   "cell_type": "markdown",
   "metadata": {},
   "source": [
    "Definir una función que genere un diccionario que contiene un número entre (1 y N) en la forma (x,x*x).\n",
    "N se le pasa como parámetro\n",
    "\n",
    "Ejemplo: n = 5<br>\n",
    "Resultado esperado: {1: 1, 2: 4, 3: 9, 4: 16, 5: 25}"
   ]
  },
  {
   "cell_type": "code",
   "execution_count": 52,
   "metadata": {},
   "outputs": [],
   "source": [
    "# Definir el código\n",
    "def generardiccionario(parametro,dicFinal):\n",
    "    for item in range(1,parametro+1):\n",
    "        dicFinal.update({item:item*item})\n",
    "    print(dicFinal)    "
   ]
  },
  {
   "cell_type": "code",
   "execution_count": 53,
   "metadata": {},
   "outputs": [
    {
     "name": "stdout",
     "output_type": "stream",
     "text": [
      "{1: 1, 2: 4, 3: 9, 4: 16, 5: 25, 6: 36}\n",
      "None\n"
     ]
    }
   ],
   "source": [
    "# Probar la función\n",
    "Parametro=6\n",
    "dicFinal=dict()\n",
    "\n",
    "hacer=generardiccionario(Parametro,dicFinal)\n",
    "\n",
    "print(hacer)\n",
    "\n"
   ]
  },
  {
   "cell_type": "markdown",
   "metadata": {},
   "source": [
    "\n",
    "## 4º. Generar diccionario de 2 listas\n"
   ]
  },
  {
   "cell_type": "markdown",
   "metadata": {},
   "source": [
    "Definir un código que genere un diccionario desde 2 listas. La 1ª lista serán las claves y la 2 lista serán los varlores<br>\n",
    "*pista: función zip*\n",
    "\n",
    "Ejemplo:<br>\n",
    "keys = ['red', 'green', 'blue']<br>\n",
    "values = ['#FF0000','#008000', '#0000FF']<br>\n",
    "Resultado esperado: {'red': '#FF0000', 'green': '#008000', 'blue': '#0000FF'}"
   ]
  },
  {
   "cell_type": "code",
   "execution_count": 54,
   "metadata": {},
   "outputs": [],
   "source": [
    "# Definir el código\n",
    "def genararDosDiccionarios(tabla,valores):\n",
    "    df={}\n",
    "    index=0\n",
    "    for x in tabla:\n",
    "        df[x]=valores[index]\n",
    "        index+=0\n",
    "    print(df)    \n",
    "\n",
    "      "
   ]
  },
  {
   "cell_type": "code",
   "execution_count": 55,
   "metadata": {},
   "outputs": [
    {
     "name": "stdout",
     "output_type": "stream",
     "text": [
      "{'red': '#FF0000', 'green': '#FF0000', 'blue': '#FF0000'}\n",
      "None\n"
     ]
    }
   ],
   "source": [
    "#Probar la funcion\n",
    "tabla = ['red', 'green', 'blue']\n",
    "valores = ['#FF0000','#008000', '#0000FF']\n",
    "\n",
    "resultado=genararDosDiccionarios(tabla,valores)\n",
    "print(resultado)\n",
    "\n"
   ]
  },
  {
   "cell_type": "markdown",
   "metadata": {},
   "source": [
    "\n",
    "## 5º. Generar diccionario desde String\n"
   ]
  },
  {
   "cell_type": "markdown",
   "metadata": {},
   "source": [
    "Definir un código que genere un diccionario desde una cadena pasada como parámetro, donde las Keys con las letras de la cadena, y el valor, el nº de veces que esa letra se repite<br>\n",
    "\n",
    "Ejemplo:<br>\n",
    "Ejemplo: 'w3resource'<br>\n",
    "Restulado Esperado: {'w': 1, '3': 1, 'r': 2, 'e': 2, 's': 1, 'o': 1, 'u': 1, 'c': 1}"
   ]
  },
  {
   "cell_type": "code",
   "execution_count": 8,
   "metadata": {},
   "outputs": [],
   "source": [
    "# Definir el código\n",
    "\n",
    "def generarDiccionario(palabra):\n",
    "    df={}\n",
    "    for letra in palabra:\n",
    "        if letra not in df:\n",
    "            df[letra]=1\n",
    "        else:\n",
    "            df[letra]=df[letra]+1"
   ]
  },
  {
   "cell_type": "markdown",
   "metadata": {},
   "source": [
    "\n",
    "## 6º. Filtrar un diccionario sobre un valor\n"
   ]
  },
  {
   "cell_type": "markdown",
   "metadata": {},
   "source": [
    "Definir un función que filtre un diccionario pasado como parámetro y que devuelva otro diccionario que solo contenga los elementos cuyo valor sean mayores a ese valor.<br>\n",
    "\n",
    "Ejemplo: Mayor que 174<br>\n",
    "Ejemplo: toneladas = {'Alonso': 175, 'Juan': 180, 'Andres': 165, 'Ramon': 190}<br>\n",
    "Restulado Esperado:  {'Alonso': 175, 'Juan': 180, Ramon': 190}"
   ]
  },
  {
   "cell_type": "code",
   "execution_count": 5,
   "metadata": {},
   "outputs": [],
   "source": [
    "# definir el código\n",
    "\n",
    "def buscarMayor(diccionario,paramMayor):\n",
    "    df={}\n",
    "    for k,v in diccionario.items():\n",
    "        if(v>paramMayor):\n",
    "            df.update({k:v})\n",
    "    return df        \n"
   ]
  },
  {
   "cell_type": "code",
   "execution_count": 6,
   "metadata": {},
   "outputs": [
    {
     "data": {
      "text/plain": [
       "{'Alonso': 175, 'Juan': 180, 'Ramon': 190}"
      ]
     },
     "execution_count": 6,
     "metadata": {},
     "output_type": "execute_result"
    }
   ],
   "source": [
    "# Probar el código\n",
    "toneladas = {'Alonso': 175, 'Juan': 180, 'Andres': 165, 'Ramon': 190}\n",
    "\n",
    "buscarMayor(toneladas,174)"
   ]
  },
  {
   "cell_type": "markdown",
   "metadata": {},
   "source": [
    "\n",
    "## 7º. Diccionarios anidados\n"
   ]
  },
  {
   "cell_type": "markdown",
   "metadata": {},
   "source": [
    "Definir un función que filtre un diccionario pasado como parámetro y que devuelva otro diccionario que solo contenga los elementos cuyo valor sean mayores a ese valor.<br>\n",
    "El diccionario pasado es un diccionario anidado, de la siguiente forma:<br>\n",
    "\n",
    "{\n",
    "  \"Juan\": {\n",
    "    \"altura\": 170,\n",
    "    \"peso\": 70\n",
    "  },\n",
    "  \"Alberto\": {\n",
    "    \"altura\": 185,\n",
    "    \"peso\": 90\n",
    "  },\n",
    "  \"Manuel\": {\n",
    "    \"altura\": 160,\n",
    "    \"peso\": 65\n",
    "  }\n",
    "}\n",
    "\n",
    "Definir una función que filter por la altura, y otra función que filter por el peso.\n",
    "*Se deverá devolver aquellos estudiantes que superen el peso o la altura*"
   ]
  },
  {
   "cell_type": "code",
   "execution_count": 1,
   "metadata": {},
   "outputs": [],
   "source": [
    "# definir el código\n",
    "\n",
    "def filterDicByAltura(dic, altura):\n",
    "    dicFinal={}\n",
    "    for amigoNombre,valor in dic.items():\n",
    "        if (valor[\"altura\"]>altura):\n",
    "            dicFinal.update({amigoNombre:valor})\n",
    "\n",
    "    return dicFinal"
   ]
  },
  {
   "cell_type": "code",
   "execution_count": 2,
   "metadata": {},
   "outputs": [
    {
     "data": {
      "text/plain": [
       "{'Juan': {'altura': 170, 'peso': 70}, 'Alberto': {'altura': 185, 'peso': 90}}"
      ]
     },
     "execution_count": 2,
     "metadata": {},
     "output_type": "execute_result"
    }
   ],
   "source": [
    "# Probar el código\n",
    "\n",
    "amigos = {\n",
    "  \"Juan\": {\n",
    "    \"altura\": 170,\n",
    "    \"peso\": 70\n",
    "  },\n",
    "  \"Alberto\": {\n",
    "    \"altura\": 185,\n",
    "    \"peso\": 90\n",
    "  },\n",
    "  \"Manuel\": {\n",
    "    \"altura\": 160,\n",
    "    \"peso\": 65\n",
    "  }\n",
    "}\n",
    "\n",
    "filterDicByAltura(amigos,165)"
   ]
  },
  {
   "cell_type": "code",
   "execution_count": 3,
   "metadata": {},
   "outputs": [],
   "source": [
    "# definir el código\n",
    "\n",
    "def filterDicByPeso(dic, peso):  \n",
    "    dicFinal={}\n",
    "    for amigoNombre,valor in dic.items():\n",
    "        if (valor[\"peso\"]>peso):\n",
    "            dicFinal.update({amigoNombre:valor})\n",
    "\n",
    "    return dicFinal"
   ]
  },
  {
   "cell_type": "code",
   "execution_count": 4,
   "metadata": {},
   "outputs": [
    {
     "data": {
      "text/plain": [
       "{'Alberto': {'altura': 185, 'peso': 90}}"
      ]
     },
     "execution_count": 4,
     "metadata": {},
     "output_type": "execute_result"
    }
   ],
   "source": [
    "# Probar el código\n",
    "filterDicByPeso(amigos,89)\n"
   ]
  }
 ],
 "metadata": {
  "kernelspec": {
   "display_name": "Python 3 (ipykernel)",
   "language": "python",
   "name": "python3"
  },
  "language_info": {
   "codemirror_mode": {
    "name": "ipython",
    "version": 3
   },
   "file_extension": ".py",
   "mimetype": "text/x-python",
   "name": "python",
   "nbconvert_exporter": "python",
   "pygments_lexer": "ipython3",
   "version": "3.10.2"
  }
 },
 "nbformat": 4,
 "nbformat_minor": 2
}
