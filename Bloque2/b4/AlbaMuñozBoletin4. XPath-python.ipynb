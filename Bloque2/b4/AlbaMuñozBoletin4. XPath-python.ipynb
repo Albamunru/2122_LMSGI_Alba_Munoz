{
 "cells": [
  {
   "cell_type": "markdown",
   "metadata": {},
   "source": [
    "# Trabajo con XPath en Python"
   ]
  },
  {
   "cell_type": "markdown",
   "metadata": {},
   "source": [
    "Para la realización de estos ejercicios es necesario instalar la libreria \"lxml\"\n",
    "```sh\n",
    "$> pip install lxml\n",
    "```"
   ]
  },
  {
   "cell_type": "markdown",
   "metadata": {},
   "source": [
    "Los ejercicios se realizarán sobre el siguiente documento XML<br>\n",
    "También está disponible en la carpeta recursos (res)\n",
    "```XML\n",
    "<?xml version=\"1.0\" encoding=\"UTF-8\"?>\n",
    "<ies>\n",
    "  <nombre>IES TicArte</nombre>\n",
    "  <web>http://www.ticarte.com</web>\n",
    "  <ciclos>\n",
    "    <ciclo id=\"ASIR\">\n",
    "      <nombre>Administración de Sistemas Informáticos en Red</nombre>\n",
    "      <grado>Superior</grado>\n",
    "      <decretoTitulo año=\"2009\" />\n",
    "    </ciclo>\n",
    "    <ciclo id=\"DAW\">\n",
    "      <nombre>Desarrollo de Aplicaciones Web</nombre>\n",
    "      <grado>Superior</grado>\n",
    "      <decretoTitulo año=\"2010\" />\n",
    "    </ciclo>\n",
    "    <ciclo id=\"SMR\">\n",
    "      <nombre>Sistemas Microinformáticos y Redes</nombre>\n",
    "      <grado>Medio</grado>\n",
    "      <decretoTitulo año=\"2008\" />\n",
    "    </ciclo>\n",
    " </ciclos>\n",
    "</ies>\n",
    "```"
   ]
  },
  {
   "cell_type": "markdown",
   "metadata": {},
   "source": [
    "#### CARGA DEL FICHERO XML."
   ]
  },
  {
   "cell_type": "code",
   "execution_count": 1,
   "metadata": {},
   "outputs": [],
   "source": [
    "# Parte común para todos los ejercicios, ejecutar siempre al principio\n",
    "from lxml import etree\n",
    "\n",
    "arbol = etree.parse('./res/ciclos.xml')"
   ]
  },
  {
   "cell_type": "markdown",
   "metadata": {},
   "source": [
    "### Ejercicio 1 \n",
    "Mostrar el nombre del instituto\n"
   ]
  },
  {
   "cell_type": "code",
   "execution_count": 3,
   "metadata": {},
   "outputs": [
    {
     "name": "stdout",
     "output_type": "stream",
     "text": [
      "ASIR\n",
      "DAW\n",
      "SMR\n"
     ]
    }
   ],
   "source": [
    "#Ejemplo de uso.. Mostrar el nombre sin etiquetas de los módulos que se imparten en el instituto.\n",
    "# >> sin etiquetas significa, obtener el valor de la etiqueta\n",
    "# doc.xpath('/ies/modulos/modulo/nombre/text()')\n",
    "\n",
    "# ==> Tu respuesta debajo\n",
    "\n",
    "ciclos=arbol.xpath('/ies/ciclos/ciclo')\n",
    "\n",
    "for nodoCiclo in ciclos:\n",
    "    print(nodoCiclo.attrib[\"id\"])\n",
    "    \n",
    "\n",
    "\n",
    "\n",
    "\n"
   ]
  },
  {
   "cell_type": "markdown",
   "metadata": {},
   "source": [
    "### Ejercicio 2\n",
    "Mostrar la página web del instituto sin etiquetas"
   ]
  },
  {
   "cell_type": "code",
   "execution_count": 2,
   "metadata": {},
   "outputs": [
    {
     "data": {
      "text/plain": [
       "['http://www.ticarte.com']"
      ]
     },
     "execution_count": 2,
     "metadata": {},
     "output_type": "execute_result"
    }
   ],
   "source": [
    "arbol.xpath('/ies/web/text()')"
   ]
  },
  {
   "cell_type": "markdown",
   "metadata": {},
   "source": [
    "### Ejercicio 3\n",
    "Mostrar el nombre de los ciclos formativos sin etiquetas."
   ]
  },
  {
   "cell_type": "code",
   "execution_count": 3,
   "metadata": {},
   "outputs": [
    {
     "name": "stdout",
     "output_type": "stream",
     "text": [
      "['Administración de Sistemas Informáticos en Red', 'Desarrollo de Aplicaciones Web', 'Sistemas Microinformáticos y Redes']\n"
     ]
    }
   ],
   "source": [
    "listaCiclos=arbol.xpath('/ies/ciclos/ciclo/nombre/text()')\n",
    "print(listaCiclos)"
   ]
  },
  {
   "cell_type": "markdown",
   "metadata": {},
   "source": [
    "### Ejercicio 4\n",
    "Mostrar los años en los que se publicaron los decretos de los ciclos formativos."
   ]
  },
  {
   "cell_type": "code",
   "execution_count": 4,
   "metadata": {},
   "outputs": [
    {
     "name": "stdout",
     "output_type": "stream",
     "text": [
      "2009\n",
      "2010\n",
      "2008\n"
     ]
    }
   ],
   "source": [
    "ciclos=arbol.xpath('/ies/ciclos/ciclo/decretoTitulo')\n",
    "\n",
    "for nodoCiclo in ciclos:\n",
    "    print(nodoCiclo.attrib[\"año\"])"
   ]
  },
  {
   "cell_type": "markdown",
   "metadata": {},
   "source": [
    "### Ejercicio 5\n",
    "Mostrar toda la información de los ciclos formativos de grado medio."
   ]
  },
  {
   "cell_type": "code",
   "execution_count": 9,
   "metadata": {},
   "outputs": [
    {
     "name": "stdout",
     "output_type": "stream",
     "text": [
      "True\n"
     ]
    }
   ],
   "source": [
    "listaCiclos=arbol.xpath('/ies/ciclos/ciclo/grado=\"Medio\"')\n",
    "print(listaCiclos)\n",
    "\n",
    "#Me dice que lo encuentra pero no soy capaz de mostrarlos si pongo \n",
    "#text() me da error\n",
    "\n"
   ]
  },
  {
   "cell_type": "markdown",
   "metadata": {},
   "source": [
    "### Ejercicio 6\n",
    "Mostrar los nombres de los ciclos formativos de grado superior."
   ]
  },
  {
   "cell_type": "code",
   "execution_count": 6,
   "metadata": {},
   "outputs": [
    {
     "name": "stdout",
     "output_type": "stream",
     "text": [
      "True\n"
     ]
    }
   ],
   "source": [
    "listaCiclos=arbol.xpath('/ies/ciclos/ciclo/grado=\"Superior\"')\n",
    "print(listaCiclos)\n",
    "\n",
    "#Me dice que lo encuentra pero no soy capaz de mostrarlos si pongo \n",
    "#text() me da error\n",
    "\n",
    "# MAL\n"
   ]
  },
  {
   "cell_type": "markdown",
   "metadata": {},
   "source": [
    "### Ejercicio 7\n",
    "Mostrar los nombres de los ciclos formativos anteriores a 2010 sin etiquetas."
   ]
  },
  {
   "cell_type": "code",
   "execution_count": 7,
   "metadata": {},
   "outputs": [
    {
     "name": "stdout",
     "output_type": "stream",
     "text": [
      "True\n"
     ]
    }
   ],
   "source": [
    "listaCiclos=arbol.xpath('/ies/ciclos/ciclo/decretoTitulo/ @año < 2010')\n",
    "print(listaCiclos)\n",
    "\n",
    "# MAL ==> TIENE QUE MOSTRAR LA LISTA\n"
   ]
  },
  {
   "cell_type": "markdown",
   "metadata": {},
   "source": [
    "### Ejercicio 8\n",
    "Mostrar los nombres de los ciclos formativos de 2008 o de 2010."
   ]
  },
  {
   "cell_type": "code",
   "execution_count": 8,
   "metadata": {},
   "outputs": [
    {
     "name": "stdout",
     "output_type": "stream",
     "text": [
      "True\n"
     ]
    }
   ],
   "source": [
    "listaCiclos=arbol.xpath('/ies/ciclos/ciclo/decretoTitulo[@año = \"2010\"] or decretoTitulo[@año=\"2008\"] ')\n",
    "print(listaCiclos)\n",
    "\n",
    "#Tambien me pasa lo mismo me los detecta pero no soy capaz de imprimirlo\n",
    "\n",
    "# MAL ==> TIENE QUE MOSTRAR LA LISTA"
   ]
  }
 ],
 "metadata": {
  "interpreter": {
   "hash": "ec9676ad9f5f678c6129e80930667ff10a4176bd4043345bcdc6bd53c57c67c7"
  },
  "kernelspec": {
   "display_name": "Python 3.9.10 64-bit (windows store)",
   "language": "python",
   "name": "python3"
  },
  "language_info": {
   "codemirror_mode": {
    "name": "ipython",
    "version": 3
   },
   "file_extension": ".py",
   "mimetype": "text/x-python",
   "name": "python",
   "nbconvert_exporter": "python",
   "pygments_lexer": "ipython3",
   "version": "3.9.12"
  },
  "orig_nbformat": 4
 },
 "nbformat": 4,
 "nbformat_minor": 2
}
